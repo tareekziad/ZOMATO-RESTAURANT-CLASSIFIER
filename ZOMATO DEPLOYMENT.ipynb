{
 "cells": [
  {
   "cell_type": "code",
   "execution_count": 1,
   "id": "61f9b3b8",
   "metadata": {},
   "outputs": [],
   "source": [
    "import streamlit as st "
   ]
  },
  {
   "cell_type": "code",
   "execution_count": 12,
   "id": "64d23dcb",
   "metadata": {},
   "outputs": [
    {
     "name": "stdout",
     "output_type": "stream",
     "text": [
      "Overwriting ZOMATODEPLOYMENTPY.py\n"
     ]
    }
   ],
   "source": [
    "%%writefile ZOMATODEPLOYMENTPY.py\n",
    "import pandas as pd \n",
    "import streamlit as st\n",
    "import joblib\n",
    "import sklearn\n",
    "\n",
    "\n",
    "Model = joblib.load('dCTM.h5')\n",
    "\n",
    "def Predict(online_order, book_table, location, rest_type, cuisines,\n",
    "       listed_in_type, listed_in_city , approx_cost_for_two_people , votes):\n",
    "    \n",
    "    \n",
    "    test = pd.DataFrame(columns=['online_order', 'book_table', 'location', 'rest_type', 'cuisines',\n",
    "       'listed_in_type', 'listed_in_city' , 'approx_cost_for_two_people'])\n",
    "    \n",
    "    test.at[0,['online_order']] = online_order\n",
    "    test.at[0,['book_table']] = book_table\n",
    "    test.at[0,['location']] = location\n",
    "    test.at[0,['rest_type']] = rest_type\n",
    "    test.at[0,['cuisines']] = cuisines\n",
    "    test.at[0,['listed_in(type)']] = listed_in_type\n",
    "    test.at[0,['listed_in(city)']] = listed_in_city\n",
    "    test.at[0,['approx_cost(for two people)']] = approx_cost_for_two_people\n",
    "    test.at[0,['votes']] = votes    \n",
    "    \n",
    "    \n",
    "    \n",
    "    return Model.predict(test)[0]\n",
    "\n",
    "\n",
    "def main():\n",
    "    st.header('ZOMATO RESTAURANT CLASSIFIER APP'.capitalize())\n",
    "    \n",
    "    online_order = st.selectbox('is there is online orders'.title() ,['Yes' ,'No'] )\n",
    "    \n",
    "    \n",
    "    book_table = st.selectbox('is there is book table'.title() , ['Yes', 'No'])\n",
    "    \n",
    "    \n",
    "    location = st.selectbox('choose location'.title() ,\n",
    "                                    ['Other', 'Jayanagar', 'JP Nagar', 'Bannerghatta Road' ,'BTM',\n",
    "                                         'Koramangala 5th Block', 'HSR', 'Marathahalli', 'Koramangala 7th Block',\n",
    "                                         'Bellandur', 'Whitefield', 'Indiranagar', 'Brigade Road',\n",
    "                                         'Koramangala 6th Block'])\n",
    "    \n",
    "    \n",
    "    rest_type = st.selectbox('what is rest type'.title() ,\n",
    "                                   ['Casual Dining', 'Other', 'Quick Bites', 'Cafe', 'Delivery', 'Dessert Parlor',\n",
    "                                     'Takeaway, Delivery', 'Casual Dining, Bar'])\n",
    "    \n",
    "    \n",
    "    cuisines = st.selectbox('what is cuisines'.title() , ['Other', 'North Indian', 'Cafe', 'Bakery, Desserts', 'Biryani', 'South Indian'\n",
    "                                         'North Indian, Chinese', 'Ice Cream, Desserts', 'Chinese', 'Bakery'\n",
    "                                         'Fast Food', 'Mithai, Street Food', 'Desserts',\n",
    "                                         'South Indian, North Indian, Chinese', 'Chinese, North Indian'])\n",
    "    \n",
    "    \n",
    "    listed_in_type = st.selectbox('what is your listed in type'.title() \n",
    "                                       , ['Buffet', 'Cafes', 'Delivery', 'Desserts', 'Dine-out', 'Drinks & nightlife',\n",
    "                                                 'Pubs and bars'])\n",
    "    \n",
    "    listed_in_city = st.selectbox('what is listed in city'.title() ,['Other' ,'Bannerghatta Road' ,'Basavanagudi',\n",
    "                                                                     'Brigade Road' ,'Brookefield',\n",
    "                                     'BTM', 'Church Street', 'HSR', 'Indiranagar', 'Jayanagar', 'JP Nagar',\n",
    "                                     'Kalyan Nagar', 'Kammanahalli' ,'Koramangala 4th Block',\n",
    "                                     'Koramangala 5th Block', 'Koramangala 6th Block', 'Koramangala 7th Block',\n",
    "                                     'Lavelle Road', 'Marathahalli', 'MG Road', 'Old Airport Road',\n",
    "                                     'Residency Road', 'Sarjapur Road', 'Whitefield'])\n",
    "    \n",
    "    approx_cost_for_two_people = st.slider('what is approx cost for two people',  min_value=40.0 , max_value=6000.0,\n",
    "                                          value=60.0 , step=10.0)\n",
    "    \n",
    "    \n",
    "    votes = st.slider('what is approx cost for two people',  min_value=0 , max_value=6832,\n",
    "                                          value=100 , step=10)#16832\n",
    "    \n",
    "    \n",
    "    \n",
    "    if st.button('predict'.title()):\n",
    "        ans = Predict(online_order, book_table, location, rest_type, cuisines,\n",
    "       listed_in_type, listed_in_city , approx_cost_for_two_people , votes)\n",
    "        st.write(ans)\n",
    "main()"
   ]
  },
  {
   "cell_type": "code",
   "execution_count": null,
   "id": "52641fd4",
   "metadata": {},
   "outputs": [],
   "source": [
    "!streamlit run ZOMATODEPLOYMENTPY.py"
   ]
  },
  {
   "cell_type": "code",
   "execution_count": null,
   "id": "a559660f",
   "metadata": {},
   "outputs": [],
   "source": []
  }
 ],
 "metadata": {
  "kernelspec": {
   "display_name": "Python 3 (ipykernel)",
   "language": "python",
   "name": "python3"
  },
  "language_info": {
   "codemirror_mode": {
    "name": "ipython",
    "version": 3
   },
   "file_extension": ".py",
   "mimetype": "text/x-python",
   "name": "python",
   "nbconvert_exporter": "python",
   "pygments_lexer": "ipython3",
   "version": "3.10.4"
  }
 },
 "nbformat": 4,
 "nbformat_minor": 5
}
